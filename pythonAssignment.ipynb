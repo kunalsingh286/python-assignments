{
  "nbformat": 4,
  "nbformat_minor": 0,
  "metadata": {
    "colab": {
      "provenance": [],
      "authorship_tag": "ABX9TyOeh1Yac5zwtWICmX7qR+Yj",
      "include_colab_link": true
    },
    "kernelspec": {
      "name": "python3",
      "display_name": "Python 3"
    },
    "language_info": {
      "name": "python"
    }
  },
  "cells": [
    {
      "cell_type": "markdown",
      "metadata": {
        "id": "view-in-github",
        "colab_type": "text"
      },
      "source": [
        "<a href=\"https://colab.research.google.com/github/kunalsingh286/python-assignments/blob/main/pythonAssignment.ipynb\" target=\"_parent\"><img src=\"https://colab.research.google.com/assets/colab-badge.svg\" alt=\"Open In Colab\"/></a>"
      ]
    },
    {
      "cell_type": "markdown",
      "source": [],
      "metadata": {
        "id": "FD1lwT6t0rOL"
      }
    },
    {
      "cell_type": "markdown",
      "source": [
        "Q1. L is a list defined as L= [11, 12, 13, 14].\n",
        "(i) WAP to add 50 and 60 to L.\n",
        "(ii) WAP to remove 11 and 13from L.\n",
        "(iii) WAP to sort L in ascending order.\n",
        "(iv) WAP to sort L in descending order.\n",
        "(v) WAP to search for 13 in L.\n",
        "(vi) WAP to count the number of elements present in L.\n",
        "(vii) WAP to sum all the elements in L.\n",
        "(viii) WAP to sum all ODD numbers in L.\n",
        "(ix) WAP to sum all EVEN numbers in L.\n",
        "(x) WAP to sum all PRIME numbers in L.\n",
        "(xi) WAP to clear all the elements in L.\n",
        "(xii) WAP to delete L.\n",
        "\n",
        "\n"
      ],
      "metadata": {
        "id": "jeuALkfu00nr"
      }
    },
    {
      "cell_type": "code",
      "source": [
        "# Initial list L\n",
        "L = [11, 12, 13, 14]\n",
        "\n",
        "# (i) Add 50 and 60 to L\n",
        "L.append(50)\n",
        "L.append(60)\n",
        "print(\"After adding 50 and 60:\", L)\n",
        "\n",
        "# (ii) Remove 11 and 13 from L\n",
        "L.remove(11)\n",
        "L.remove(13)\n",
        "print(\"After removing 11 and 13:\", L)\n",
        "\n",
        "# (iii) Sort L in ascending order\n",
        "L.sort()\n",
        "print(\"Sorted in ascending order:\", L)\n",
        "\n",
        "# (iv) Sort L in descending order\n",
        "L.sort(reverse=True)\n",
        "print(\"Sorted in descending order:\", L)\n",
        "\n",
        "# (v) Search for 13 in L\n",
        "search_element = 13\n",
        "is_present = search_element in L\n",
        "print(f\"Is 13 present in L?: {is_present}\")\n",
        "\n",
        "# (vi) Count the number of elements present in L\n",
        "count_elements = len(L)\n",
        "print(\"Number of elements in L:\", count_elements)\n",
        "\n",
        "# (vii) Sum all the elements in L\n",
        "sum_elements = sum(L)\n",
        "print(\"Sum of all elements in L:\", sum_elements)\n",
        "\n",
        "# (viii) Sum all ODD numbers in L\n",
        "sum_odd = sum(x for x in L if x % 2 != 0)\n",
        "print(\"Sum of all odd numbers in L:\", sum_odd)\n",
        "\n",
        "# (ix) Sum all EVEN numbers in L\n",
        "sum_even = sum(x for x in L if x % 2 == 0)\n",
        "print(\"Sum of all even numbers in L:\", sum_even)\n",
        "\n",
        "# (x) Sum all PRIME numbers in L\n",
        "def is_prime(n):\n",
        "    if n <= 1:\n",
        "        return False\n",
        "    for i in range(2, int(n**0.5) + 1):\n",
        "        if n % i == 0:\n",
        "            return False\n",
        "    return True\n",
        "\n",
        "sum_prime = sum(x for x in L if is_prime(x))\n",
        "print(\"Sum of all prime numbers in L:\", sum_prime)\n",
        "\n",
        "# (xi) Clear all the elements in L\n",
        "L.clear()\n",
        "print(\"After clearing all elements, L:\", L)\n",
        "\n",
        "# (xii) Delete L\n",
        "del L\n",
        "try:\n",
        "    print(L)\n",
        "except NameError:\n",
        "    print(\"L is deleted.\")\n"
      ],
      "metadata": {
        "colab": {
          "base_uri": "https://localhost:8080/"
        },
        "id": "V0HwxJwX3MwA",
        "outputId": "55876565-d90c-4707-cb9d-a89353f00253"
      },
      "execution_count": 9,
      "outputs": [
        {
          "output_type": "stream",
          "name": "stdout",
          "text": [
            "After adding 50 and 60: [11, 12, 13, 14, 50, 60]\n",
            "After removing 11 and 13: [12, 14, 50, 60]\n",
            "Sorted in ascending order: [12, 14, 50, 60]\n",
            "Sorted in descending order: [60, 50, 14, 12]\n",
            "Is 13 present in L?: False\n",
            "Number of elements in L: 4\n",
            "Sum of all elements in L: 136\n",
            "Sum of all odd numbers in L: 0\n",
            "Sum of all even numbers in L: 136\n",
            "Sum of all prime numbers in L: 0\n",
            "After clearing all elements, L: []\n",
            "L is deleted.\n"
          ]
        }
      ]
    },
    {
      "cell_type": "markdown",
      "source": [
        "Q2. D is a dictionary defined as D= {1:5.6, 2:7.8, 3:6.6, 4:8.7, 5:7.7}.\n",
        "(i) WAP to add new entry in D; key=8 and value is 8.8\n",
        "(ii) WAP to remove key=2.\n",
        "(iii) WAP to check weather 6 key is present in D.\n",
        "(iv) WAP to count the number of elements present in D.\n",
        "(v) WAP to add all the values present D.\n",
        "(vi) WAP to update the value of 3 to 7.1.\n",
        "(vii) WAP to clear the dictionary."
      ],
      "metadata": {
        "id": "GxgPavv93UmE"
      }
    },
    {
      "cell_type": "code",
      "source": [
        "# Initial dictionary D\n",
        "D = {1: 5.6, 2: 7.8, 3: 6.6, 4: 8.7, 5: 7.7}\n",
        "\n",
        "# (i) Add new entry in D; key=8 and value is 8.8\n",
        "D[8] = 8.8\n",
        "print(\"After adding key=8, value=8.8:\", D)\n",
        "\n",
        "# (ii) Remove key=2\n",
        "if 2 in D:\n",
        "    del D[2]\n",
        "print(\"After removing key=2:\", D)\n",
        "\n",
        "# (iii) Check whether key=6 is present in D\n",
        "is_key_present = 6 in D\n",
        "print(\"Is key=6 present in D?:\", is_key_present)\n",
        "\n",
        "# (iv) Count the number of elements present in D\n",
        "count_elements = len(D)\n",
        "print(\"Number of elements in D:\", count_elements)\n",
        "\n",
        "# (v) Add all the values present in D\n",
        "sum_values = sum(D.values())\n",
        "print(\"Sum of all values in D:\", sum_values)\n",
        "\n",
        "# (vi) Update the value of key=3 to 7.1\n",
        "if 3 in D:\n",
        "    D[3] = 7.1\n",
        "print(\"After updating the value of key=3 to 7.1:\", D)\n",
        "\n",
        "# (vii) Clear the dictionary\n",
        "D.clear()\n",
        "print(\"After clearing the dictionary, D:\", D)\n"
      ],
      "metadata": {
        "colab": {
          "base_uri": "https://localhost:8080/"
        },
        "id": "03fC37XR3g0Z",
        "outputId": "0cb76c16-ad7e-45fc-a800-0e0378c43f53"
      },
      "execution_count": 10,
      "outputs": [
        {
          "output_type": "stream",
          "name": "stdout",
          "text": [
            "After adding key=8, value=8.8: {1: 5.6, 2: 7.8, 3: 6.6, 4: 8.7, 5: 7.7, 8: 8.8}\n",
            "After removing key=2: {1: 5.6, 3: 6.6, 4: 8.7, 5: 7.7, 8: 8.8}\n",
            "Is key=6 present in D?: False\n",
            "Number of elements in D: 5\n",
            "Sum of all values in D: 37.4\n",
            "After updating the value of key=3 to 7.1: {1: 5.6, 3: 7.1, 4: 8.7, 5: 7.7, 8: 8.8}\n",
            "After clearing the dictionary, D: {}\n"
          ]
        }
      ]
    },
    {
      "cell_type": "markdown",
      "source": [
        "Q3. S1 is a set defined as S1= [10, 20, 30, 40, 50, 60].\n",
        " S2 is a set defined as S2= [40, 50, 60, 70, 80, 90].\n",
        "(i) WAP to add 55 and 66 in Set S1.\n",
        "(ii) WAP to remove 10 and 30 from Set S1.\n",
        "(iii) WAP to check whether 40 is present in S1.\n",
        "(iv) WAP to find the union between S1 and S2.\n",
        "(v) WAP to find the intersection between S1 and S2.\n",
        "(vi) WAP to find the S1 - S2.\n"
      ],
      "metadata": {
        "id": "iQUOBOCN35cA"
      }
    },
    {
      "cell_type": "code",
      "source": [
        "# Initial sets S1 and S2\n",
        "S1 = {10, 20, 30, 40, 50, 60}\n",
        "S2 = {40, 50, 60, 70, 80, 90}\n",
        "\n",
        "# (i) Add 55 and 66 in Set S1\n",
        "S1.add(55)\n",
        "S1.add(66)\n",
        "print(\"After adding 55 and 66 to S1:\", S1)\n",
        "\n",
        "# (ii) Remove 10 and 30 from Set S1\n",
        "S1.discard(10)\n",
        "S1.discard(30)\n",
        "print(\"After removing 10 and 30 from S1:\", S1)\n",
        "\n",
        "# (iii) Check whether 40 is present in S1\n",
        "is_present = 40 in S1\n",
        "print(\"Is 40 present in S1?:\", is_present)\n",
        "\n",
        "# (iv) Find the union between S1 and S2\n",
        "union_set = S1.union(S2)\n",
        "print(\"Union of S1 and S2:\", union_set)\n",
        "\n",
        "# (v) Find the intersection between S1 and S2\n",
        "intersection_set = S1.intersection(S2)\n",
        "print(\"Intersection of S1 and S2:\", intersection_set)\n",
        "\n",
        "# (vi) Find the difference S1 - S2\n",
        "difference_set = S1.difference(S2)\n",
        "print(\"Difference S1 - S2:\", difference_set)\n"
      ],
      "metadata": {
        "colab": {
          "base_uri": "https://localhost:8080/"
        },
        "id": "SOIihzQZ4DuD",
        "outputId": "aa7ae8e2-a874-489a-e102-36ea50b34e02"
      },
      "execution_count": 11,
      "outputs": [
        {
          "output_type": "stream",
          "name": "stdout",
          "text": [
            "After adding 55 and 66 to S1: {50, 66, 20, 55, 40, 10, 60, 30}\n",
            "After removing 10 and 30 from S1: {50, 66, 20, 55, 40, 60}\n",
            "Is 40 present in S1?: True\n",
            "Union of S1 and S2: {66, 70, 40, 80, 50, 20, 55, 90, 60}\n",
            "Intersection of S1 and S2: {40, 50, 60}\n",
            "Difference S1 - S2: {66, 20, 55}\n"
          ]
        }
      ]
    },
    {
      "cell_type": "markdown",
      "source": [
        "Q4. Write the following program.\n",
        "(i) WAP to print 100 random strings whose length between 6 and 8.\n",
        "(ii) WAP to print all prime numbers between 600 and 800.\n",
        "(iii) WAP to print all numbers between 100 and 1000 that are divisible by 7 and 9."
      ],
      "metadata": {
        "id": "re43TkVH4NaE"
      }
    },
    {
      "cell_type": "code",
      "source": [
        "import random\n",
        "import string\n",
        "\n",
        "def generate_random_string(length):\n",
        "    letters = string.ascii_letters\n",
        "    return ''.join(random.choice(letters) for i in range(length))\n",
        "\n",
        "random_strings = [generate_random_string(random.randint(6, 8)) for _ in range(100)]\n",
        "print(\"100 random strings of length between 6 and 8:\")\n",
        "print(random_strings)\n"
      ],
      "metadata": {
        "colab": {
          "base_uri": "https://localhost:8080/"
        },
        "id": "VpK51FBu4W51",
        "outputId": "621cadab-9629-4731-ae52-fe50922a3c62"
      },
      "execution_count": 12,
      "outputs": [
        {
          "output_type": "stream",
          "name": "stdout",
          "text": [
            "100 random strings of length between 6 and 8:\n",
            "['EmwAwNIJ', 'lDIqPTLo', 'GJyIwjBw', 'aBxvFq', 'jJYlzsY', 'eUbZQK', 'JSOelc', 'sioAEa', 'YpxSITx', 'OFaoTfNg', 'KvxShArP', 'KpTeOek', 'jKsEuv', 'XCniOGuz', 'jyjFwDHD', 'AMJrwXf', 'cjMgWWjF', 'EJeccsdd', 'eYlVKDkG', 'qwsVUa', 'mXpmNID', 'NcjMsuB', 'WGMNzwt', 'GVGNJi', 'JNZdeO', 'kySrCC', 'AVhJAme', 'YhrBULSL', 'BjbRke', 'tDtOQYd', 'IFjvvxJB', 'moXtSGI', 'GCHZMJmr', 'FNjoSYYB', 'ieaHPQie', 'vRWlTvRK', 'kkxsqBpu', 'tIxIWOaT', 'ibXLFo', 'rSswpNbk', 'lBQGAIr', 'mouWMyr', 'TabwKzP', 'naaLEINH', 'FuuNfuav', 'SGLcfM', 'vyUIAEg', 'nyPzaGvn', 'Opollp', 'MDOhgo', 'UFLEotMc', 'IbSFligF', 'sbCKpFy', 'yoaqhJc', 'DzEIlF', 'CFwHtM', 'NzoffSn', 'mqtNVack', 'flByhucq', 'wXOwJW', 'ZTuDWs', 'LpCJLzIh', 'OhtwgjN', 'pRqFBj', 'RqZClxG', 'WxpRrggq', 'AzYiRwws', 'mfjwRy', 'fXUKyZuE', 'fXKWOvFe', 'nOFdJQro', 'YikKvEbG', 'PSIZvdjc', 'gyNcvHz', 'kCRzgRZu', 'qnjzmJx', 'XyAxibSE', 'YDOmWgA', 'qLeFGi', 'IqkZALz', 'BgwyDk', 'GERbNAj', 'HJCiQG', 'TyiDBBg', 'KcifsAv', 'QciKCz', 'VWpCmro', 'XefYWGPD', 'IZGLmQi', 'pErkST', 'RsuDvEc', 'GDCUFcRV', 'wVBpYlVq', 'RlMjcFMT', 'TtUQQCQ', 'TKwPjRLR', 'LLYadwg', 'HOAXWMJ', 'sSSEOQ', 'QlyaEnC']\n"
          ]
        }
      ]
    },
    {
      "cell_type": "code",
      "source": [
        "def is_prime(n):\n",
        "    if n <= 1:\n",
        "        return False\n",
        "    for i in range(2, int(n**0.5) + 1):\n",
        "        if n % i == 0:\n",
        "            return False\n",
        "    return True\n",
        "\n",
        "prime_numbers = [num for num in range(600, 801) if is_prime(num)]\n",
        "print(\"Prime numbers between 600 and 800:\")\n",
        "print(prime_numbers)\n"
      ],
      "metadata": {
        "colab": {
          "base_uri": "https://localhost:8080/"
        },
        "id": "PYKpbhTL5J-q",
        "outputId": "4904dc5e-0f5d-4f4e-987b-a7a702df6611"
      },
      "execution_count": 13,
      "outputs": [
        {
          "output_type": "stream",
          "name": "stdout",
          "text": [
            "Prime numbers between 600 and 800:\n",
            "[601, 607, 613, 617, 619, 631, 641, 643, 647, 653, 659, 661, 673, 677, 683, 691, 701, 709, 719, 727, 733, 739, 743, 751, 757, 761, 769, 773, 787, 797]\n"
          ]
        }
      ]
    },
    {
      "cell_type": "code",
      "source": [
        "divisible_by_7_and_9 = [num for num in range(100, 1001) if num % 7 == 0 and num % 9 == 0]\n",
        "print(\"Numbers between 100 and 1000 divisible by 7 and 9:\")\n",
        "print(divisible_by_7_and_9)\n"
      ],
      "metadata": {
        "colab": {
          "base_uri": "https://localhost:8080/"
        },
        "id": "7MlzqKqr5M87",
        "outputId": "cc637a5c-cb07-435e-c6b1-5d490310f18f"
      },
      "execution_count": 14,
      "outputs": [
        {
          "output_type": "stream",
          "name": "stdout",
          "text": [
            "Numbers between 100 and 1000 divisible by 7 and 9:\n",
            "[126, 189, 252, 315, 378, 441, 504, 567, 630, 693, 756, 819, 882, 945]\n"
          ]
        }
      ]
    },
    {
      "cell_type": "markdown",
      "source": [
        "Q5. WAP to create two lists of 10 random numbers between 10 and 30; Find\n",
        "(i) Common numbers in the two lists\n",
        "(ii) Unique numbers in both the list\n",
        "(iii) Minimum in both the list\n",
        "(iv) Maximum in both the list\n",
        "(v) Sum of both the lists"
      ],
      "metadata": {
        "id": "O1o2bIW_5SuJ"
      }
    },
    {
      "cell_type": "code",
      "source": [
        "import random\n",
        "\n",
        "# Generate two lists of 10 random numbers between 10 and 30\n",
        "list1 = [random.randint(10, 30) for _ in range(10)]\n",
        "list2 = [random.randint(10, 30) for _ in range(10)]\n",
        "\n",
        "print(\"List 1:\", list1)\n",
        "print(\"List 2:\", list2)\n",
        "\n",
        "# (i) Common numbers in the two lists\n",
        "common_numbers = set(list1).intersection(list2)\n",
        "print(\"Common numbers in the two lists:\", common_numbers)\n",
        "\n",
        "# (ii) Unique numbers in both the lists\n",
        "unique_numbers = set(list1).symmetric_difference(list2)\n",
        "print(\"Unique numbers in both the lists:\", unique_numbers)\n",
        "\n",
        "# (iii) Minimum in both the lists\n",
        "min_list1 = min(list1)\n",
        "min_list2 = min(list2)\n",
        "print(\"Minimum in List 1:\", min_list1)\n",
        "print(\"Minimum in List 2:\", min_list2)\n",
        "\n",
        "# (iv) Maximum in both the lists\n",
        "max_list1 = max(list1)\n",
        "max_list2 = max(list2)\n",
        "print(\"Maximum in List 1:\", max_list1)\n",
        "print(\"Maximum in List 2:\", max_list2)\n",
        "\n",
        "# (v) Sum of both the lists\n",
        "sum_list1 = sum(list1)\n",
        "sum_list2 = sum(list2)\n",
        "total_sum = sum_list1 + sum_list2\n",
        "print(\"Sum of List 1:\", sum_list1)\n",
        "print(\"Sum of List 2:\", sum_list2)\n",
        "print(\"Total sum of both lists:\", total_sum)\n"
      ],
      "metadata": {
        "colab": {
          "base_uri": "https://localhost:8080/"
        },
        "id": "dKYPLQjY5aVK",
        "outputId": "952b5bb0-e2e6-4069-e6f3-d728ddab6c7f"
      },
      "execution_count": 15,
      "outputs": [
        {
          "output_type": "stream",
          "name": "stdout",
          "text": [
            "List 1: [13, 15, 21, 30, 15, 22, 18, 19, 26, 25]\n",
            "List 2: [24, 18, 17, 23, 16, 14, 14, 21, 28, 17]\n",
            "Common numbers in the two lists: {18, 21}\n",
            "Unique numbers in both the lists: {13, 14, 15, 16, 17, 19, 22, 23, 24, 25, 26, 28, 30}\n",
            "Minimum in List 1: 13\n",
            "Minimum in List 2: 14\n",
            "Maximum in List 1: 30\n",
            "Maximum in List 2: 28\n",
            "Sum of List 1: 204\n",
            "Sum of List 2: 192\n",
            "Total sum of both lists: 396\n"
          ]
        }
      ]
    },
    {
      "cell_type": "markdown",
      "source": [
        "Q6. WAP to create a list of 100 random numbers between 100 and 900. Count and print the:\n",
        "(i) All odd numbers\n",
        "(ii) All even numbers\n",
        "(iii) All prime numbers"
      ],
      "metadata": {
        "id": "ihMd0ohY5oZR"
      }
    },
    {
      "cell_type": "code",
      "source": [
        "import random\n",
        "\n",
        "# Generate a list of 100 random numbers between 100 and 900\n",
        "random_numbers = [random.randint(100, 900) for _ in range(100)]\n",
        "print(\"List of 100 random numbers between 100 and 900:\")\n",
        "print(random_numbers)\n",
        "\n",
        "# (i) All odd numbers\n",
        "odd_numbers = [num for num in random_numbers if num % 2 != 0]\n",
        "print(\"Odd numbers:\")\n",
        "print(odd_numbers)\n",
        "print(\"Count of odd numbers:\", len(odd_numbers))\n",
        "\n",
        "# (ii) All even numbers\n",
        "even_numbers = [num for num in random_numbers if num % 2 == 0]\n",
        "print(\"Even numbers:\")\n",
        "print(even_numbers)\n",
        "print(\"Count of even numbers:\", len(even_numbers))\n",
        "\n",
        "# (iii) All prime numbers\n",
        "def is_prime(n):\n",
        "    if n <= 1:\n",
        "        return False\n",
        "    for i in range(2, int(n**0.5) + 1):\n",
        "        if n % i == 0:\n",
        "            return False\n",
        "    return True\n",
        "\n",
        "prime_numbers = [num for num in random_numbers if is_prime(num)]\n",
        "print(\"Prime numbers:\")\n",
        "print(prime_numbers)\n",
        "print(\"Count of prime numbers:\", len(prime_numbers))\n"
      ],
      "metadata": {
        "colab": {
          "base_uri": "https://localhost:8080/"
        },
        "id": "-JFNGPz05sXN",
        "outputId": "1b031bf2-2e08-4a67-aced-fd80e8fc2578"
      },
      "execution_count": 16,
      "outputs": [
        {
          "output_type": "stream",
          "name": "stdout",
          "text": [
            "List of 100 random numbers between 100 and 900:\n",
            "[865, 160, 446, 239, 271, 391, 179, 726, 472, 361, 429, 691, 319, 427, 662, 699, 351, 211, 123, 458, 732, 637, 643, 186, 498, 872, 453, 632, 497, 414, 195, 104, 407, 672, 207, 491, 797, 224, 308, 230, 159, 862, 622, 488, 679, 436, 537, 135, 829, 433, 112, 675, 410, 655, 700, 538, 865, 305, 806, 599, 836, 893, 672, 188, 316, 364, 527, 164, 661, 136, 639, 678, 589, 181, 408, 814, 229, 376, 848, 301, 698, 740, 394, 807, 231, 747, 640, 612, 564, 761, 435, 674, 169, 341, 648, 632, 486, 610, 470, 375]\n",
            "Odd numbers:\n",
            "[865, 239, 271, 391, 179, 361, 429, 691, 319, 427, 699, 351, 211, 123, 637, 643, 453, 497, 195, 407, 207, 491, 797, 159, 679, 537, 135, 829, 433, 675, 655, 865, 305, 599, 893, 527, 661, 639, 589, 181, 229, 301, 807, 231, 747, 761, 435, 169, 341, 375]\n",
            "Count of odd numbers: 50\n",
            "Even numbers:\n",
            "[160, 446, 726, 472, 662, 458, 732, 186, 498, 872, 632, 414, 104, 672, 224, 308, 230, 862, 622, 488, 436, 112, 410, 700, 538, 806, 836, 672, 188, 316, 364, 164, 136, 678, 408, 814, 376, 848, 698, 740, 394, 640, 612, 564, 674, 648, 632, 486, 610, 470]\n",
            "Count of even numbers: 50\n",
            "Prime numbers:\n",
            "[239, 271, 179, 691, 211, 643, 491, 797, 829, 433, 599, 661, 181, 229, 761]\n",
            "Count of prime numbers: 15\n"
          ]
        }
      ]
    },
    {
      "cell_type": "markdown",
      "source": [
        "Q7. D is a dictionary defined as D={1:\"One\",2:\"Two\",3:\"Three\",4:\"Four\", 5:\"Five\"}.\n",
        " WAP to read all the keys and values from dictionary and write to the file in the given below format.\n",
        "Key1, Value1\n",
        "Key2, Value2\n",
        "Key3, Value3"
      ],
      "metadata": {
        "id": "6GW-hrdc577H"
      }
    },
    {
      "cell_type": "code",
      "source": [
        "# Dictionary D\n",
        "D = {1: \"One\", 2: \"Two\", 3: \"Three\", 4: \"Four\", 5: \"Five\"}\n",
        "\n",
        "# Open a file in write mode\n",
        "with open(\"output.txt\", \"w\") as file:\n",
        "    # Iterate through the dictionary and write each key-value pair to the file\n",
        "    for key, value in D.items():\n",
        "        file.write(f\"Key{key}, Value{value}\\n\")\n",
        "\n",
        "print(\"Dictionary has been written to output.txt\")\n"
      ],
      "metadata": {
        "colab": {
          "base_uri": "https://localhost:8080/"
        },
        "id": "Vqn2pD555-M1",
        "outputId": "3538d55f-b2b8-4745-9ec4-5bfd94d366fe"
      },
      "execution_count": 19,
      "outputs": [
        {
          "output_type": "stream",
          "name": "stdout",
          "text": [
            "Dictionary has been written to output.txt\n"
          ]
        }
      ]
    },
    {
      "cell_type": "markdown",
      "source": [
        "Q8. L is a list defined as L={\"One\",\"Two\",\"Three\",\"Four\",\"Five\"}.\n",
        " WAP to count the length of reach element from a list and write to the file in the given below format:\n",
        "One, 3\n",
        "Two, 3\n",
        "Four, 4"
      ],
      "metadata": {
        "id": "yDIwWNbW6ynA"
      }
    },
    {
      "cell_type": "code",
      "source": [
        "# List L\n",
        "L = [\"One\", \"Two\", \"Three\", \"Four\", \"Five\"]\n",
        "\n",
        "# Open a file in write mode\n",
        "with open(\"output_lengths.txt\", \"w\") as file:\n",
        "    # Iterate through the list and write each element with its length to the file\n",
        "    for element in L:\n",
        "        length = len(element)\n",
        "        file.write(f\"{element}, {length}\\n\")\n",
        "\n",
        "print(\"List elements and their lengths have been written to output_lengths.txt\")\n"
      ],
      "metadata": {
        "id": "CULiVKUz62zq"
      },
      "execution_count": null,
      "outputs": []
    },
    {
      "cell_type": "markdown",
      "source": [
        "Q9. Write to the file 100 random strings whose length between 10 and 15."
      ],
      "metadata": {
        "id": "d1Jot3-169uS"
      }
    },
    {
      "cell_type": "code",
      "source": [
        "import random\n",
        "import string\n",
        "\n",
        "# Function to generate a random string of a given length\n",
        "def generate_random_string(length):\n",
        "    letters = string.ascii_letters  # Use both uppercase and lowercase letters\n",
        "    return ''.join(random.choice(letters) for i in range(length))\n",
        "\n",
        "# Generate 100 random strings with lengths between 10 and 15\n",
        "random_strings = [generate_random_string(random.randint(10, 15)) for _ in range(100)]\n",
        "\n",
        "# Write the random strings to a file\n",
        "with open(\"random_strings.txt\", \"w\") as file:\n",
        "    for s in random_strings:\n",
        "        file.write(s + \"\\n\")\n",
        "\n",
        "print(\"100 random strings have been written to random_strings.txt\")\n",
        "\n",
        "# import string as s\n",
        "# import random as r\n",
        "# for i in range(100):\n",
        "#     x=r.randint(10,15)\n",
        "#     print(r.sample(s.ascii_letters,x))"
      ],
      "metadata": {
        "colab": {
          "base_uri": "https://localhost:8080/"
        },
        "id": "udxWfY7o7JzU",
        "outputId": "59ec523c-466b-46f4-f5e0-37ccb432f08d"
      },
      "execution_count": 20,
      "outputs": [
        {
          "output_type": "stream",
          "name": "stdout",
          "text": [
            "100 random strings have been written to random_strings.txt\n"
          ]
        }
      ]
    },
    {
      "cell_type": "markdown",
      "source": [
        "Q10. Write to the file all prime numbers between 600 and 800.\n",
        "\n",
        "\n"
      ],
      "metadata": {
        "id": "mB7xjVsB8lCn"
      }
    },
    {
      "cell_type": "code",
      "source": [
        "for i in range(600,800):\n",
        "    flag=0\n",
        "    for j in range(2,i//2+1):\n",
        "        if i%j==0:\n",
        "            flag=1\n",
        "    if flag==0:\n",
        "        print(i)"
      ],
      "metadata": {
        "colab": {
          "base_uri": "https://localhost:8080/"
        },
        "id": "EOhPEwcy8rsc",
        "outputId": "b6304290-b0ca-45ed-b006-0175ef71aecf"
      },
      "execution_count": 21,
      "outputs": [
        {
          "output_type": "stream",
          "name": "stdout",
          "text": [
            "601\n",
            "607\n",
            "613\n",
            "617\n",
            "619\n",
            "631\n",
            "641\n",
            "643\n",
            "647\n",
            "653\n",
            "659\n",
            "661\n",
            "673\n",
            "677\n",
            "683\n",
            "691\n",
            "701\n",
            "709\n",
            "719\n",
            "727\n",
            "733\n",
            "739\n",
            "743\n",
            "751\n",
            "757\n",
            "761\n",
            "769\n",
            "773\n",
            "787\n",
            "797\n"
          ]
        }
      ]
    },
    {
      "cell_type": "markdown",
      "source": [
        "Q11. WAP to calculate the time taken by a program."
      ],
      "metadata": {
        "id": "kcKODXMT9rCY"
      }
    },
    {
      "cell_type": "code",
      "source": [
        "import time\n",
        "t1=time.time()\n",
        "print(t1)"
      ],
      "metadata": {
        "colab": {
          "base_uri": "https://localhost:8080/"
        },
        "id": "sa6Ht-lw9wYD",
        "outputId": "cd12d426-19e0-47f5-9cc5-81def6b16fbe"
      },
      "execution_count": 22,
      "outputs": [
        {
          "output_type": "stream",
          "name": "stdout",
          "text": [
            "1718439520.3146276\n"
          ]
        }
      ]
    },
    {
      "cell_type": "code",
      "source": [
        "import time\n",
        "import random as r\n",
        "import string as s\n",
        "t=time.time()\n",
        "l1=[r.randint(1,1000) for i in range(5000)]\n",
        "t1=time.time()\n",
        "T1=t1-t\n",
        "print(T1)\n",
        "l1=[r.randint(1,1000) for i in range(10000)]\n",
        "t2=time.time()\n",
        "T2=t2-t1\n",
        "print(T2)\n",
        "l1=[r.randint(1,1000) for i in range(15000)]\n",
        "t3=time.time()\n",
        "T3=t3-t2\n",
        "print(T3)\n",
        "l1=[r.randint(1,1000) for i in range(20000)]\n",
        "t4=time.time()\n",
        "T4=t4-t3\n",
        "print(T4)\n",
        "l1=[r.randint(1,1000) for i in range(25000)]\n",
        "t5=time.time()\n",
        "T5=t5-t4\n",
        "print(T5)"
      ],
      "metadata": {
        "colab": {
          "base_uri": "https://localhost:8080/"
        },
        "id": "JJo9YS9T-826",
        "outputId": "bf7befe4-4a7c-47d6-c15d-2dc30ee0a8d8"
      },
      "execution_count": 23,
      "outputs": [
        {
          "output_type": "stream",
          "name": "stdout",
          "text": [
            "0.009737253189086914\n",
            "0.022362470626831055\n",
            "0.02556300163269043\n",
            "0.0382390022277832\n",
            "0.042006731033325195\n"
          ]
        }
      ]
    },
    {
      "cell_type": "markdown",
      "source": [
        "Q13. WAP to create a dictionary of student marks in five subjects and you have to find the student\n",
        "having maximum and minimum average marks.\n",
        "\n",
        "\n"
      ],
      "metadata": {
        "id": "7TyiyIy7_iUP"
      }
    },
    {
      "cell_type": "code",
      "source": [
        "import random as r\n",
        "s1=[r.randint(1,100) for i in range(5)]\n",
        "s2=[r.randint(1,100) for i in range(5)]\n",
        "s3=[r.randint(1,100) for i in range(5)]\n",
        "s4=[r.randint(1,100) for i in range(5)]\n",
        "s5=[r.randint(1,100) for i in range(5)]\n",
        "print(s1)\n",
        "print(s2)\n",
        "print(s3)\n",
        "print(s4)\n",
        "print(s5)\n",
        "for i in s1:\n",
        "    sum+=i\n",
        "avg1=sum/len(s1)\n",
        "for i in s2:\n",
        "    sum+=i\n",
        "avg2=sum/len(s2)\n",
        "for i in s3:\n",
        "    sum+=i\n",
        "avg3=sum/len(s3)\n",
        "for i in s4:\n",
        "    sum+=i\n",
        "avg4=sum/len(s5)\n",
        "for i in s1:\n",
        "    sum+=i\n",
        "avg5=sum/len(s5)\n",
        "avg_list=[avg1,avg2,avg3,avg4,avg5]\n",
        "print(max(avg_list))\n",
        "print(min(avg_list))"
      ],
      "metadata": {
        "colab": {
          "base_uri": "https://localhost:8080/",
          "height": 297
        },
        "id": "4vSyhZx2_ovT",
        "outputId": "b0311dca-9fc0-4f48-f525-78b7e1301b8d"
      },
      "execution_count": 28,
      "outputs": [
        {
          "output_type": "stream",
          "name": "stdout",
          "text": [
            "[25, 68, 89, 28, 50]\n",
            "[9, 70, 87, 24, 93]\n",
            "[11, 92, 56, 85, 62]\n",
            "[4, 77, 8, 56, 79]\n",
            "[3, 22, 17, 89, 50]\n"
          ]
        },
        {
          "output_type": "error",
          "ename": "TypeError",
          "evalue": "unsupported operand type(s) for +=: 'builtin_function_or_method' and 'int'",
          "traceback": [
            "\u001b[0;31m---------------------------------------------------------------------------\u001b[0m",
            "\u001b[0;31mTypeError\u001b[0m                                 Traceback (most recent call last)",
            "\u001b[0;32m<ipython-input-28-c66c1ecba3b7>\u001b[0m in \u001b[0;36m<cell line: 12>\u001b[0;34m()\u001b[0m\n\u001b[1;32m     11\u001b[0m \u001b[0mprint\u001b[0m\u001b[0;34m(\u001b[0m\u001b[0ms5\u001b[0m\u001b[0;34m)\u001b[0m\u001b[0;34m\u001b[0m\u001b[0;34m\u001b[0m\u001b[0m\n\u001b[1;32m     12\u001b[0m \u001b[0;32mfor\u001b[0m \u001b[0mi\u001b[0m \u001b[0;32min\u001b[0m \u001b[0ms1\u001b[0m\u001b[0;34m:\u001b[0m\u001b[0;34m\u001b[0m\u001b[0;34m\u001b[0m\u001b[0m\n\u001b[0;32m---> 13\u001b[0;31m     \u001b[0msum\u001b[0m\u001b[0;34m+=\u001b[0m\u001b[0mi\u001b[0m\u001b[0;34m\u001b[0m\u001b[0;34m\u001b[0m\u001b[0m\n\u001b[0m\u001b[1;32m     14\u001b[0m \u001b[0mavg1\u001b[0m\u001b[0;34m=\u001b[0m\u001b[0msum\u001b[0m\u001b[0;34m/\u001b[0m\u001b[0mlen\u001b[0m\u001b[0;34m(\u001b[0m\u001b[0ms1\u001b[0m\u001b[0;34m)\u001b[0m\u001b[0;34m\u001b[0m\u001b[0;34m\u001b[0m\u001b[0m\n\u001b[1;32m     15\u001b[0m \u001b[0;32mfor\u001b[0m \u001b[0mi\u001b[0m \u001b[0;32min\u001b[0m \u001b[0ms2\u001b[0m\u001b[0;34m:\u001b[0m\u001b[0;34m\u001b[0m\u001b[0;34m\u001b[0m\u001b[0m\n",
            "\u001b[0;31mTypeError\u001b[0m: unsupported operand type(s) for +=: 'builtin_function_or_method' and 'int'"
          ]
        }
      ]
    }
  ]
}